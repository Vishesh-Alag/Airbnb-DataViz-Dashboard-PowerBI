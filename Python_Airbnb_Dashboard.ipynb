{
  "cells": [
    {
      "cell_type": "markdown",
      "metadata": {
        "id": "view-in-github",
        "colab_type": "text"
      },
      "source": [
        "<a href=\"https://colab.research.google.com/github/Vishesh-Alag/Airbnb-DataViz-Dashboard-PowerBI/blob/main/Python_Airbnb_Dashboard.ipynb\" target=\"_parent\"><img src=\"https://colab.research.google.com/assets/colab-badge.svg\" alt=\"Open In Colab\"/></a>"
      ]
    },
    {
      "cell_type": "code",
      "execution_count": null,
      "id": "dcbe795b-624c-4d75-a856-ed447150c5ed",
      "metadata": {
        "id": "dcbe795b-624c-4d75-a856-ed447150c5ed",
        "outputId": "e59af5a6-a156-4369-f800-07a38acc03a6"
      },
      "outputs": [
        {
          "name": "stdout",
          "output_type": "stream",
          "text": [
            "✅ Cleaned data saved as cleaned_airbnb_combined.csv\n"
          ]
        },
        {
          "name": "stderr",
          "output_type": "stream",
          "text": [
            "C:\\Users\\ASUS\\AppData\\Local\\Temp\\ipykernel_18192\\3317718849.py:69: FutureWarning: Setting an item of incompatible dtype is deprecated and will raise an error in a future version of pandas. Value '' has dtype incompatible with float64, please explicitly cast to a compatible dtype first.\n",
            "  combined_df.fillna('', inplace=True)\n"
          ]
        }
      ],
      "source": [
        "import pandas as pd\n",
        "import numpy as np\n",
        "from datetime import datetime, timedelta\n",
        "\n",
        "# Load both CSVs\n",
        "chicago_df = pd.read_csv('airbnb_chicago_listings.csv')\n",
        "nola_df = pd.read_csv('airbnb_new_orleans_listings.csv')\n",
        "\n",
        "# Define cleaning function\n",
        "def clean_airbnb_data(df, city_name):\n",
        "    # Standardize column names\n",
        "    df.columns = df.columns.str.strip().str.lower().str.replace(' ', '_')\n",
        "\n",
        "    # Add city column\n",
        "    df['city'] = city_name\n",
        "\n",
        "    # Convert 'last_review' to datetime\n",
        "    df['last_review'] = pd.to_datetime(df['last_review'], errors='coerce')\n",
        "\n",
        "    # Drop duplicates\n",
        "    df = df.drop_duplicates()\n",
        "\n",
        "    # Strip whitespace from string columns\n",
        "    for col in df.select_dtypes(include='object').columns:\n",
        "        df[col] = df[col].str.strip()\n",
        "\n",
        "    # Clean neighbourhood text\n",
        "    if 'neighbourhood' in df.columns:\n",
        "        df['neighbourhood'] = df['neighbourhood'].str.title()\n",
        "\n",
        "    # Drop rows with missing critical values\n",
        "    df = df.dropna(subset=['price', 'last_review', 'reviews_per_month'])\n",
        "\n",
        "    # Convert latitude and longitude to float\n",
        "    df['latitude'] = pd.to_numeric(df['latitude'], errors='coerce')\n",
        "    df['longitude'] = pd.to_numeric(df['longitude'], errors='coerce')\n",
        "\n",
        "    # Remove rows with missing lat/lon\n",
        "    df = df.dropna(subset=['latitude', 'longitude'])\n",
        "\n",
        "    return df\n",
        "\n",
        "# Clean datasets\n",
        "chicago_clean = clean_airbnb_data(chicago_df, 'Chicago')\n",
        "nola_clean = clean_airbnb_data(nola_df, 'New Orleans')\n",
        "\n",
        "# Combine them\n",
        "combined_df = pd.concat([chicago_clean, nola_clean], ignore_index=True)\n",
        "\n",
        "# Feature Engineering\n",
        "\n",
        "# Host type\n",
        "combined_df['host_type'] = combined_df['calculated_host_listings_count'].apply(\n",
        "    lambda x: 'Multi-Listing Host' if x > 1 else 'Single-Listing Host'\n",
        ")\n",
        "\n",
        "# Price category\n",
        "combined_df['price_category'] = combined_df['price'].apply(\n",
        "    lambda x: 'Low' if x < 100 else 'Medium' if x <= 200 else 'High'\n",
        ")\n",
        "\n",
        "# Reviewed recently (within last 180 days)\n",
        "cutoff_date = pd.to_datetime(datetime.today() - timedelta(days=180))\n",
        "combined_df['reviewed_recently'] = combined_df['last_review'].apply(\n",
        "    lambda x: 'Yes' if pd.notnull(x) and x >= cutoff_date else 'No'\n",
        ")\n",
        "\n",
        "# Replace any remaining NaNs with blanks for Power BI\n",
        "combined_df.fillna('', inplace=True)\n",
        "\n",
        "# Reorder columns (optional, for better structure in Power BI)\n",
        "column_order = [\n",
        "    'name', 'city', 'neighbourhood', 'latitude', 'longitude', 'room_type',\n",
        "    'price', 'minimum_nights', 'number_of_reviews', 'last_review',\n",
        "    'reviews_per_month', 'calculated_host_listings_count', 'availability_365',\n",
        "    'number_of_reviews_ltm', 'host_type', 'price_category', 'reviewed_recently'\n",
        "]\n",
        "combined_df = combined_df[[col for col in column_order if col in combined_df.columns]]\n",
        "\n",
        "# Save cleaned CSV with UTF-8 encoding\n",
        "combined_df.to_csv('cleaned_airbnb_combined.csv', index=False, encoding='utf-8')\n",
        "\n",
        "print(\"✅ Cleaned data saved as cleaned_airbnb_combined.csv\")\n"
      ]
    }
  ],
  "metadata": {
    "kernelspec": {
      "display_name": "Python 3 (ipykernel)",
      "language": "python",
      "name": "python3"
    },
    "language_info": {
      "codemirror_mode": {
        "name": "ipython",
        "version": 3
      },
      "file_extension": ".py",
      "mimetype": "text/x-python",
      "name": "python",
      "nbconvert_exporter": "python",
      "pygments_lexer": "ipython3",
      "version": "3.12.4"
    },
    "colab": {
      "provenance": [],
      "include_colab_link": true
    }
  },
  "nbformat": 4,
  "nbformat_minor": 5
}